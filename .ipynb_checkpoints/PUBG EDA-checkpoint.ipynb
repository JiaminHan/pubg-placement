{
 "cells": [
  {
   "cell_type": "markdown",
   "metadata": {},
   "source": [
    "## A quick look at the data\n",
    "\n",
    "The data looks very straightforward for this project. The goal is to predict winPlacePerc, a percentile score where 1 = winning player/team and 0 = the last-place player/team.\n",
    "\n",
    "I made a correlation heatmap. killPlace is highly correlated with winPlacePerc, and many other features.\n",
    "\n",
    "I ran a few simple regression models on the raw data. GradientBoostingRegressor performs better (R2 = 0.87) than Ridge[Linear Regressor] (R2 = 0.79) but runs significantly more slowly (GBR: 7 mins, Ridge: 1 min). Consider running Ridge or even LinearRegression for quick evaluation of engineered features.\n",
    "\n",
    "### TODO: Feature Engineering (in a new file)\n",
    "\n",
    "## Data fields\n",
    "\n",
    "    DBNOs (Down-But-Not-Outs) - Number of enemy players knocked down.\n",
    "    assists - Number of enemy players this player damaged that were killed by teammates.\n",
    "    boosts - Number of boost items used.\n",
    "    damageDealt - Total damage dealt. Note: Self inflicted damage is subtracted.\n",
    "    headshotKills - Number of enemy players killed with headshots.\n",
    "    heals - Number of healing items used.\n",
    "    killPlace - Ranking in match of number of enemy players killed.\n",
    "    killPoints - Kills-based external ranking of player. (Think of this as an Elo ranking where only kills matter.)\n",
    "    killStreaks - Max number of enemy players killed in a short amount of time.\n",
    "    kills - Number of enemy players killed.\n",
    "    longestKill - Longest distance between player and player killed at time of death. This may be misleading, as downing a player and driving away may lead to a large longestKill stat.\n",
    "    matchId - Integer ID to identify match. There are no matches that are in both the training and testing set.\n",
    "    revives - Number of times this player revived teammates.\n",
    "    rideDistance - Total distance traveled in vehicles measured in meters.\n",
    "    roadKills - Number of kills while in a vehicle.\n",
    "    swimDistance - Total distance traveled by swimming measured in meters.\n",
    "    teamKills - Number of times this player killed a teammate.\n",
    "    vehicleDestroys - Number of vehicles destroyed.\n",
    "    walkDistance - Total distance traveled on foot measured in meters.\n",
    "    weaponsAcquired - Number of weapons picked up.\n",
    "    winPoints - Win-based external ranking of player. (Think of this as an Elo ranking where only winning matters.)\n",
    "    groupId - Integer ID to identify a group within a match. If the same group of players plays in different matches, they will have a different groupId each time.\n",
    "    numGroups - Number of groups we have data for in the match.\n",
    "    maxPlace - Worst placement we have data for in the match. This may not match with numGroups, as sometimes the data skips over placements.\n",
    "    winPlacePerc - The target of prediction. This is a percentile winning placement, where 1 corresponds to 1st place, and 0 corresponds to last place in the match. It is calculated off of maxPlace, not numGroups, so it is possible to have missing chunks in a match."
   ]
  },
  {
   "cell_type": "code",
   "execution_count": 18,
   "metadata": {},
   "outputs": [],
   "source": [
    "import pandas as pd\n",
    "import matplotlib.pyplot as plt\n",
    "import seaborn as sns\n",
    "from sklearn.linear_model import Ridge\n",
    "from sklearn.model_selection import train_test_split\n",
    "import timeit\n",
    "import datetime"
   ]
  },
  {
   "cell_type": "code",
   "execution_count": 3,
   "metadata": {},
   "outputs": [],
   "source": [
    "df = pd.read_csv('data/train.csv', nrows=1870000)"
   ]
  },
  {
   "cell_type": "code",
   "execution_count": 4,
   "metadata": {},
   "outputs": [
    {
     "name": "stdout",
     "output_type": "stream",
     "text": [
      "<class 'pandas.core.frame.DataFrame'>\n",
      "RangeIndex: 1870000 entries, 0 to 1869999\n",
      "Data columns (total 26 columns):\n",
      "Id                 int64\n",
      "groupId            int64\n",
      "matchId            int64\n",
      "assists            int64\n",
      "boosts             int64\n",
      "damageDealt        float64\n",
      "DBNOs              int64\n",
      "headshotKills      int64\n",
      "heals              int64\n",
      "killPlace          int64\n",
      "killPoints         int64\n",
      "kills              int64\n",
      "killStreaks        int64\n",
      "longestKill        float64\n",
      "maxPlace           int64\n",
      "numGroups          int64\n",
      "revives            int64\n",
      "rideDistance       float64\n",
      "roadKills          int64\n",
      "swimDistance       float64\n",
      "teamKills          int64\n",
      "vehicleDestroys    int64\n",
      "walkDistance       float64\n",
      "weaponsAcquired    int64\n",
      "winPoints          int64\n",
      "winPlacePerc       float64\n",
      "dtypes: float64(6), int64(20)\n",
      "memory usage: 370.9 MB\n"
     ]
    }
   ],
   "source": [
    "df.info()"
   ]
  },
  {
   "cell_type": "code",
   "execution_count": 5,
   "metadata": {},
   "outputs": [
    {
     "data": {
      "text/plain": [
       "Index(['Id', 'groupId', 'matchId', 'assists', 'boosts', 'damageDealt', 'DBNOs',\n",
       "       'headshotKills', 'heals', 'killPlace', 'killPoints', 'kills',\n",
       "       'killStreaks', 'longestKill', 'maxPlace', 'numGroups', 'revives',\n",
       "       'rideDistance', 'roadKills', 'swimDistance', 'teamKills',\n",
       "       'vehicleDestroys', 'walkDistance', 'weaponsAcquired', 'winPoints',\n",
       "       'winPlacePerc'],\n",
       "      dtype='object')"
      ]
     },
     "execution_count": 5,
     "metadata": {},
     "output_type": "execute_result"
    }
   ],
   "source": [
    "df.columns"
   ]
  },
  {
   "cell_type": "code",
   "execution_count": 14,
   "metadata": {},
   "outputs": [
    {
     "data": {
      "text/plain": [
       "groupId\n",
       "1           1.666667\n",
       "2           0.000000\n",
       "7           3.000000\n",
       "9           0.000000\n",
       "10          0.000000\n",
       "12          0.666667\n",
       "14          0.000000\n",
       "16          0.333333\n",
       "17          0.000000\n",
       "18          0.000000\n",
       "21          0.000000\n",
       "24          6.500000\n",
       "26          1.000000\n",
       "29          2.666667\n",
       "30          1.000000\n",
       "32          3.000000\n",
       "34          0.142857\n",
       "36          0.333333\n",
       "38          1.166667\n",
       "42          0.666667\n",
       "46          0.000000\n",
       "47          0.000000\n",
       "49          0.000000\n",
       "51          0.250000\n",
       "54          1.750000\n",
       "57          4.000000\n",
       "59         10.500000\n",
       "62          0.500000\n",
       "64          0.666667\n",
       "67          0.000000\n",
       "             ...    \n",
       "2700558     5.000000\n",
       "2700559     1.000000\n",
       "2700560     2.333333\n",
       "2700561     0.000000\n",
       "2700562     2.250000\n",
       "2700563     6.000000\n",
       "2700566     0.000000\n",
       "2700567     0.000000\n",
       "2700569     2.000000\n",
       "2700571     0.000000\n",
       "2700572     0.000000\n",
       "2700573     0.666667\n",
       "2700574     0.000000\n",
       "2700575     0.000000\n",
       "2700576     0.000000\n",
       "2700577     1.000000\n",
       "2700578     2.500000\n",
       "2700579     1.000000\n",
       "2700580     5.000000\n",
       "2700584     3.000000\n",
       "2700587     6.000000\n",
       "2700590     0.666667\n",
       "2700591     1.000000\n",
       "2700594     0.000000\n",
       "2700596     0.250000\n",
       "2700597     0.000000\n",
       "2700598     0.142857\n",
       "2700600     8.500000\n",
       "2700603     1.500000\n",
       "2700605     1.000000\n",
       "Name: heals, Length: 893875, dtype: float64"
      ]
     },
     "execution_count": 14,
     "metadata": {},
     "output_type": "execute_result"
    }
   ],
   "source": [
    "# aggregation test. groupId is a player team ID, and winPlacePerc is based on the team's best-performing member.\n",
    "df.groupby(['groupId'])['heals'].mean()\n",
    "\n",
    "# should explore features for maximum values among players in your team\n",
    "# (Ex; team's max walk distance, team's max killplace)"
   ]
  },
  {
   "cell_type": "code",
   "execution_count": 15,
   "metadata": {},
   "outputs": [
    {
     "data": {
      "text/plain": [
       "<matplotlib.axes._subplots.AxesSubplot at 0x7f84e31c10f0>"
      ]
     },
     "execution_count": 15,
     "metadata": {},
     "output_type": "execute_result"
    },
    {
     "data": {
      "image/png": "[encoded data removed]",
      "text/plain": [
       "<Figure size 432x288 with 2 Axes>"
      ]
     },
     "metadata": {},
     "output_type": "display_data"
    }
   ],
   "source": [
    "sns.heatmap(df.corr())"
   ]
  },
  {
   "cell_type": "code",
   "execution_count": 16,
   "metadata": {},
   "outputs": [],
   "source": [
    "rdg = Ridge()\n",
    "X = df.drop('winPlacePerc', axis=1)\n",
    "y = df['winPlacePerc']"
   ]
  },
  {
   "cell_type": "code",
   "execution_count": 17,
   "metadata": {},
   "outputs": [],
   "source": [
    "X_train, X_test, y_train, y_test = train_test_split(X, y, random_state=42)"
   ]
  },
  {
   "cell_type": "code",
   "execution_count": 19,
   "metadata": {},
   "outputs": [
    {
     "name": "stdout",
     "output_type": "stream",
     "text": [
      "2018-10-10 15:32:46.212796\n",
      "2018-10-10 15:33:43.240582\n"
     ]
    }
   ],
   "source": [
    "print(datetime.datetime.now())\n",
    "rdg.fit(X_train, y_train)\n",
    "print(datetime.datetime.now())"
   ]
  },
  {
   "cell_type": "code",
   "execution_count": 20,
   "metadata": {},
   "outputs": [],
   "source": [
    "y_pred = rdg.predict(X_test)"
   ]
  },
  {
   "cell_type": "code",
   "execution_count": 21,
   "metadata": {},
   "outputs": [
    {
     "data": {
      "text/plain": [
       "0.7922234021624289"
      ]
     },
     "execution_count": 21,
     "metadata": {},
     "output_type": "execute_result"
    }
   ],
   "source": [
    "rdg.score(X_test, y_test)"
   ]
  },
  {
   "cell_type": "code",
   "execution_count": 22,
   "metadata": {},
   "outputs": [],
   "source": [
    "from sklearn.ensemble import GradientBoostingRegressor"
   ]
  },
  {
   "cell_type": "code",
   "execution_count": 23,
   "metadata": {},
   "outputs": [],
   "source": [
    "gbr = GradientBoostingRegressor()"
   ]
  },
  {
   "cell_type": "code",
   "execution_count": 24,
   "metadata": {},
   "outputs": [
    {
     "name": "stdout",
     "output_type": "stream",
     "text": [
      "2018-10-10 15:33:51.935794\n",
      "2018-10-10 15:41:03.032543\n"
     ]
    }
   ],
   "source": [
    "print(datetime.datetime.now())\n",
    "gbr.fit(X_train, y_train)\n",
    "print(datetime.datetime.now())"
   ]
  },
  {
   "cell_type": "code",
   "execution_count": 25,
   "metadata": {},
   "outputs": [
    {
     "data": {
      "text/plain": [
       "0.872694449938445"
      ]
     },
     "execution_count": 25,
     "metadata": {},
     "output_type": "execute_result"
    }
   ],
   "source": [
    "gbr.score(X_test, y_test)"
   ]
  },
  {
   "cell_type": "code",
   "execution_count": 26,
   "metadata": {},
   "outputs": [],
   "source": [
    "fi = gbr.feature_importances_"
   ]
  },
  {
   "cell_type": "code",
   "execution_count": 27,
   "metadata": {},
   "outputs": [],
   "source": [
    "names = X_test.columns"
   ]
  },
  {
   "cell_type": "code",
   "execution_count": 28,
   "metadata": {},
   "outputs": [
    {
     "data": {
      "text/plain": [
       "[('Id', 0.0),\n",
       " ('groupId', 0.0),\n",
       " ('matchId', 0.0),\n",
       " ('headshotKills', 0.0),\n",
       " ('roadKills', 0.0),\n",
       " ('vehicleDestroys', 0.0),\n",
       " ('damageDealt', 0.00019364160082873262),\n",
       " ('teamKills', 0.002653089375942816),\n",
       " ('killPoints', 0.003863755155717219),\n",
       " ('rideDistance', 0.004525396112893932),\n",
       " ('revives', 0.006004524059799602),\n",
       " ('longestKill', 0.006337313134963281),\n",
       " ('swimDistance', 0.007508602394452391),\n",
       " ('heals', 0.009730957866406684),\n",
       " ('weaponsAcquired', 0.012884327361752592),\n",
       " ('DBNOs', 0.015962874634683093),\n",
       " ('winPoints', 0.018904204508595833),\n",
       " ('boosts', 0.028954451458239872),\n",
       " ('assists', 0.03030774882632564),\n",
       " ('killStreaks', 0.05298458580752392),\n",
       " ('kills', 0.06766201593591352),\n",
       " ('maxPlace', 0.0926044107581247),\n",
       " ('numGroups', 0.1270976027483637),\n",
       " ('walkDistance', 0.24409062851253577),\n",
       " ('killPlace', 0.26772986974693674)]"
      ]
     },
     "execution_count": 28,
     "metadata": {},
     "output_type": "execute_result"
    }
   ],
   "source": [
    "sorted(list(zip(names, fi)), key=lambda x: x[1])"
   ]
  },
  {
   "cell_type": "code",
   "execution_count": 29,
   "metadata": {},
   "outputs": [],
   "source": [
    "from xgboost import XGBRegressor"
   ]
  },
  {
   "cell_type": "code",
   "execution_count": 30,
   "metadata": {},
   "outputs": [],
   "source": [
    "xgb = XGBRegressor()"
   ]
  },
  {
   "cell_type": "code",
   "execution_count": 31,
   "metadata": {},
   "outputs": [
    {
     "name": "stdout",
     "output_type": "stream",
     "text": [
      "2018-10-10 15:41:04.691747\n",
      "2018-10-10 15:44:07.265739\n"
     ]
    }
   ],
   "source": [
    "print(datetime.datetime.now())\n",
    "xgb.fit(X_train, y_train)\n",
    "print(datetime.datetime.now())"
   ]
  },
  {
   "cell_type": "code",
   "execution_count": 32,
   "metadata": {},
   "outputs": [
    {
     "data": {
      "text/plain": [
       "0.8726929199457596"
      ]
     },
     "execution_count": 32,
     "metadata": {},
     "output_type": "execute_result"
    }
   ],
   "source": [
    "xgb.score(X_test, y_test)"
   ]
  },
  {
   "cell_type": "code",
   "execution_count": null,
   "metadata": {},
   "outputs": [],
   "source": []
  }
 ],
 "metadata": {
  "kernelspec": {
   "display_name": "Python 3",
   "language": "python",
   "name": "python3"
  },
  "language_info": {
   "codemirror_mode": {
    "name": "ipython",
    "version": 3
   },
   "file_extension": ".py",
   "mimetype": "text/x-python",
   "name": "python",
   "nbconvert_exporter": "python",
   "pygments_lexer": "ipython3",
   "version": "3.6.5"
  }
 },
 "nbformat": 4,
 "nbformat_minor": 2
}
